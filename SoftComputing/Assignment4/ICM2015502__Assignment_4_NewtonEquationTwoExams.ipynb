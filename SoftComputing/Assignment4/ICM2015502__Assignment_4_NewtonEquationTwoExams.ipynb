{
  "cells": [
    {
      "metadata": {
        "_uuid": "8f2839f25d086af736a60e9eeb907d3b93b6e0e5",
        "_cell_guid": "b1076dfc-b9ad-4769-8c92-a6c4dae69d19",
        "trusted": true
      },
      "cell_type": "code",
      "source": "import numpy as np\nimport pandas as pd\nimport matplotlib.pyplot as plt\nfrom sklearn.model_selection import train_test_split as tts\nimport os \nprint(os.listdir(\"../input\"))",
      "execution_count": 1,
      "outputs": [
        {
          "output_type": "stream",
          "text": "['TwoExams.csv']\n",
          "name": "stdout"
        }
      ]
    },
    {
      "metadata": {
        "_cell_guid": "79c7e3d0-c299-4dcb-8224-4455121ee9b0",
        "_uuid": "d629ff2d2480ee46fbb7e2d37f6b5fab8052498a",
        "trusted": true
      },
      "cell_type": "code",
      "source": "df = pd.read_csv('../input/TwoExams.csv',header = None, names = [\"exam1\",\"exam2\",\"result\"])",
      "execution_count": 2,
      "outputs": []
    },
    {
      "metadata": {
        "trusted": true,
        "_uuid": "7f17a169e14545c76a1b1fa043fa336b592efae7"
      },
      "cell_type": "code",
      "source": "df[:]",
      "execution_count": 3,
      "outputs": [
        {
          "output_type": "execute_result",
          "execution_count": 3,
          "data": {
            "text/plain": "        exam1      exam2  result\n0   34.623660  78.024693       0\n1   30.286711  43.894998       0\n2   35.847409  72.902198       0\n3   60.182599  86.308552       1\n4   79.032736  75.344376       1\n5   45.083277  56.316372       0\n6   61.106665  96.511426       1\n7   75.024746  46.554014       1\n8   76.098787  87.420570       1\n9   84.432820  43.533393       1\n10  95.861555  38.225278       0\n11  75.013658  30.603263       0\n12  82.307053  76.481963       1\n13  69.364589  97.718692       1\n14  39.538339  76.036811       0\n15  53.971052  89.207350       1\n16  69.070144  52.740470       1\n17  67.946855  46.678574       0\n18  70.661510  92.927138       1\n19  76.978784  47.575964       1\n20  67.372028  42.838438       0\n21  89.676776  65.799366       1\n22  50.534788  48.855812       0\n23  34.212061  44.209529       0\n24  77.924091  68.972360       1\n25  62.271014  69.954458       1\n26  80.190181  44.821629       1\n27  93.114389  38.800670       0\n28  61.830206  50.256108       0\n29  38.785804  64.995681       0\n..        ...        ...     ...\n70  32.722833  43.307173       0\n71  64.039320  78.031688       1\n72  72.346494  96.227593       1\n73  60.457886  73.094998       1\n74  58.840956  75.858448       1\n75  99.827858  72.369252       1\n76  47.264269  88.475865       1\n77  50.458160  75.809860       1\n78  60.455556  42.508409       0\n79  82.226662  42.719879       0\n80  88.913896  69.803789       1\n81  94.834507  45.694307       1\n82  67.319257  66.589353       1\n83  57.238706  59.514282       1\n84  80.366756  90.960148       1\n85  68.468522  85.594307       1\n86  42.075455  78.844786       0\n87  75.477702  90.424539       1\n88  78.635424  96.647427       1\n89  52.348004  60.769505       0\n90  94.094331  77.159105       1\n91  90.448551  87.508792       1\n92  55.482161  35.570703       0\n93  74.492692  84.845137       1\n94  89.845807  45.358284       1\n95  83.489163  48.380286       1\n96  42.261701  87.103851       1\n97  99.315009  68.775409       1\n98  55.340018  64.931938       1\n99  74.775893  89.529813       1\n\n[100 rows x 3 columns]",
            "text/html": "<div>\n<style scoped>\n    .dataframe tbody tr th:only-of-type {\n        vertical-align: middle;\n    }\n\n    .dataframe tbody tr th {\n        vertical-align: top;\n    }\n\n    .dataframe thead th {\n        text-align: right;\n    }\n</style>\n<table border=\"1\" class=\"dataframe\">\n  <thead>\n    <tr style=\"text-align: right;\">\n      <th></th>\n      <th>exam1</th>\n      <th>exam2</th>\n      <th>result</th>\n    </tr>\n  </thead>\n  <tbody>\n    <tr>\n      <th>0</th>\n      <td>34.623660</td>\n      <td>78.024693</td>\n      <td>0</td>\n    </tr>\n    <tr>\n      <th>1</th>\n      <td>30.286711</td>\n      <td>43.894998</td>\n      <td>0</td>\n    </tr>\n    <tr>\n      <th>2</th>\n      <td>35.847409</td>\n      <td>72.902198</td>\n      <td>0</td>\n    </tr>\n    <tr>\n      <th>3</th>\n      <td>60.182599</td>\n      <td>86.308552</td>\n      <td>1</td>\n    </tr>\n    <tr>\n      <th>4</th>\n      <td>79.032736</td>\n      <td>75.344376</td>\n      <td>1</td>\n    </tr>\n    <tr>\n      <th>5</th>\n      <td>45.083277</td>\n      <td>56.316372</td>\n      <td>0</td>\n    </tr>\n    <tr>\n      <th>6</th>\n      <td>61.106665</td>\n      <td>96.511426</td>\n      <td>1</td>\n    </tr>\n    <tr>\n      <th>7</th>\n      <td>75.024746</td>\n      <td>46.554014</td>\n      <td>1</td>\n    </tr>\n    <tr>\n      <th>8</th>\n      <td>76.098787</td>\n      <td>87.420570</td>\n      <td>1</td>\n    </tr>\n    <tr>\n      <th>9</th>\n      <td>84.432820</td>\n      <td>43.533393</td>\n      <td>1</td>\n    </tr>\n    <tr>\n      <th>10</th>\n      <td>95.861555</td>\n      <td>38.225278</td>\n      <td>0</td>\n    </tr>\n    <tr>\n      <th>11</th>\n      <td>75.013658</td>\n      <td>30.603263</td>\n      <td>0</td>\n    </tr>\n    <tr>\n      <th>12</th>\n      <td>82.307053</td>\n      <td>76.481963</td>\n      <td>1</td>\n    </tr>\n    <tr>\n      <th>13</th>\n      <td>69.364589</td>\n      <td>97.718692</td>\n      <td>1</td>\n    </tr>\n    <tr>\n      <th>14</th>\n      <td>39.538339</td>\n      <td>76.036811</td>\n      <td>0</td>\n    </tr>\n    <tr>\n      <th>15</th>\n      <td>53.971052</td>\n      <td>89.207350</td>\n      <td>1</td>\n    </tr>\n    <tr>\n      <th>16</th>\n      <td>69.070144</td>\n      <td>52.740470</td>\n      <td>1</td>\n    </tr>\n    <tr>\n      <th>17</th>\n      <td>67.946855</td>\n      <td>46.678574</td>\n      <td>0</td>\n    </tr>\n    <tr>\n      <th>18</th>\n      <td>70.661510</td>\n      <td>92.927138</td>\n      <td>1</td>\n    </tr>\n    <tr>\n      <th>19</th>\n      <td>76.978784</td>\n      <td>47.575964</td>\n      <td>1</td>\n    </tr>\n    <tr>\n      <th>20</th>\n      <td>67.372028</td>\n      <td>42.838438</td>\n      <td>0</td>\n    </tr>\n    <tr>\n      <th>21</th>\n      <td>89.676776</td>\n      <td>65.799366</td>\n      <td>1</td>\n    </tr>\n    <tr>\n      <th>22</th>\n      <td>50.534788</td>\n      <td>48.855812</td>\n      <td>0</td>\n    </tr>\n    <tr>\n      <th>23</th>\n      <td>34.212061</td>\n      <td>44.209529</td>\n      <td>0</td>\n    </tr>\n    <tr>\n      <th>24</th>\n      <td>77.924091</td>\n      <td>68.972360</td>\n      <td>1</td>\n    </tr>\n    <tr>\n      <th>25</th>\n      <td>62.271014</td>\n      <td>69.954458</td>\n      <td>1</td>\n    </tr>\n    <tr>\n      <th>26</th>\n      <td>80.190181</td>\n      <td>44.821629</td>\n      <td>1</td>\n    </tr>\n    <tr>\n      <th>27</th>\n      <td>93.114389</td>\n      <td>38.800670</td>\n      <td>0</td>\n    </tr>\n    <tr>\n      <th>28</th>\n      <td>61.830206</td>\n      <td>50.256108</td>\n      <td>0</td>\n    </tr>\n    <tr>\n      <th>29</th>\n      <td>38.785804</td>\n      <td>64.995681</td>\n      <td>0</td>\n    </tr>\n    <tr>\n      <th>...</th>\n      <td>...</td>\n      <td>...</td>\n      <td>...</td>\n    </tr>\n    <tr>\n      <th>70</th>\n      <td>32.722833</td>\n      <td>43.307173</td>\n      <td>0</td>\n    </tr>\n    <tr>\n      <th>71</th>\n      <td>64.039320</td>\n      <td>78.031688</td>\n      <td>1</td>\n    </tr>\n    <tr>\n      <th>72</th>\n      <td>72.346494</td>\n      <td>96.227593</td>\n      <td>1</td>\n    </tr>\n    <tr>\n      <th>73</th>\n      <td>60.457886</td>\n      <td>73.094998</td>\n      <td>1</td>\n    </tr>\n    <tr>\n      <th>74</th>\n      <td>58.840956</td>\n      <td>75.858448</td>\n      <td>1</td>\n    </tr>\n    <tr>\n      <th>75</th>\n      <td>99.827858</td>\n      <td>72.369252</td>\n      <td>1</td>\n    </tr>\n    <tr>\n      <th>76</th>\n      <td>47.264269</td>\n      <td>88.475865</td>\n      <td>1</td>\n    </tr>\n    <tr>\n      <th>77</th>\n      <td>50.458160</td>\n      <td>75.809860</td>\n      <td>1</td>\n    </tr>\n    <tr>\n      <th>78</th>\n      <td>60.455556</td>\n      <td>42.508409</td>\n      <td>0</td>\n    </tr>\n    <tr>\n      <th>79</th>\n      <td>82.226662</td>\n      <td>42.719879</td>\n      <td>0</td>\n    </tr>\n    <tr>\n      <th>80</th>\n      <td>88.913896</td>\n      <td>69.803789</td>\n      <td>1</td>\n    </tr>\n    <tr>\n      <th>81</th>\n      <td>94.834507</td>\n      <td>45.694307</td>\n      <td>1</td>\n    </tr>\n    <tr>\n      <th>82</th>\n      <td>67.319257</td>\n      <td>66.589353</td>\n      <td>1</td>\n    </tr>\n    <tr>\n      <th>83</th>\n      <td>57.238706</td>\n      <td>59.514282</td>\n      <td>1</td>\n    </tr>\n    <tr>\n      <th>84</th>\n      <td>80.366756</td>\n      <td>90.960148</td>\n      <td>1</td>\n    </tr>\n    <tr>\n      <th>85</th>\n      <td>68.468522</td>\n      <td>85.594307</td>\n      <td>1</td>\n    </tr>\n    <tr>\n      <th>86</th>\n      <td>42.075455</td>\n      <td>78.844786</td>\n      <td>0</td>\n    </tr>\n    <tr>\n      <th>87</th>\n      <td>75.477702</td>\n      <td>90.424539</td>\n      <td>1</td>\n    </tr>\n    <tr>\n      <th>88</th>\n      <td>78.635424</td>\n      <td>96.647427</td>\n      <td>1</td>\n    </tr>\n    <tr>\n      <th>89</th>\n      <td>52.348004</td>\n      <td>60.769505</td>\n      <td>0</td>\n    </tr>\n    <tr>\n      <th>90</th>\n      <td>94.094331</td>\n      <td>77.159105</td>\n      <td>1</td>\n    </tr>\n    <tr>\n      <th>91</th>\n      <td>90.448551</td>\n      <td>87.508792</td>\n      <td>1</td>\n    </tr>\n    <tr>\n      <th>92</th>\n      <td>55.482161</td>\n      <td>35.570703</td>\n      <td>0</td>\n    </tr>\n    <tr>\n      <th>93</th>\n      <td>74.492692</td>\n      <td>84.845137</td>\n      <td>1</td>\n    </tr>\n    <tr>\n      <th>94</th>\n      <td>89.845807</td>\n      <td>45.358284</td>\n      <td>1</td>\n    </tr>\n    <tr>\n      <th>95</th>\n      <td>83.489163</td>\n      <td>48.380286</td>\n      <td>1</td>\n    </tr>\n    <tr>\n      <th>96</th>\n      <td>42.261701</td>\n      <td>87.103851</td>\n      <td>1</td>\n    </tr>\n    <tr>\n      <th>97</th>\n      <td>99.315009</td>\n      <td>68.775409</td>\n      <td>1</td>\n    </tr>\n    <tr>\n      <th>98</th>\n      <td>55.340018</td>\n      <td>64.931938</td>\n      <td>1</td>\n    </tr>\n    <tr>\n      <th>99</th>\n      <td>74.775893</td>\n      <td>89.529813</td>\n      <td>1</td>\n    </tr>\n  </tbody>\n</table>\n<p>100 rows × 3 columns</p>\n</div>"
          },
          "metadata": {}
        }
      ]
    },
    {
      "metadata": {
        "trusted": true,
        "_uuid": "a4ec9cae0473328121afb97e88c9b395a4ca5862"
      },
      "cell_type": "code",
      "source": "x_df = df[['exam1','exam2']]\ny_df = df[['result']]",
      "execution_count": 4,
      "outputs": []
    },
    {
      "metadata": {
        "trusted": true,
        "_uuid": "dacea0d856558eb372c3ef445622ffcc469132ea"
      },
      "cell_type": "code",
      "source": "x_df.head()",
      "execution_count": 5,
      "outputs": [
        {
          "output_type": "execute_result",
          "execution_count": 5,
          "data": {
            "text/plain": "       exam1      exam2\n0  34.623660  78.024693\n1  30.286711  43.894998\n2  35.847409  72.902198\n3  60.182599  86.308552\n4  79.032736  75.344376",
            "text/html": "<div>\n<style scoped>\n    .dataframe tbody tr th:only-of-type {\n        vertical-align: middle;\n    }\n\n    .dataframe tbody tr th {\n        vertical-align: top;\n    }\n\n    .dataframe thead th {\n        text-align: right;\n    }\n</style>\n<table border=\"1\" class=\"dataframe\">\n  <thead>\n    <tr style=\"text-align: right;\">\n      <th></th>\n      <th>exam1</th>\n      <th>exam2</th>\n    </tr>\n  </thead>\n  <tbody>\n    <tr>\n      <th>0</th>\n      <td>34.623660</td>\n      <td>78.024693</td>\n    </tr>\n    <tr>\n      <th>1</th>\n      <td>30.286711</td>\n      <td>43.894998</td>\n    </tr>\n    <tr>\n      <th>2</th>\n      <td>35.847409</td>\n      <td>72.902198</td>\n    </tr>\n    <tr>\n      <th>3</th>\n      <td>60.182599</td>\n      <td>86.308552</td>\n    </tr>\n    <tr>\n      <th>4</th>\n      <td>79.032736</td>\n      <td>75.344376</td>\n    </tr>\n  </tbody>\n</table>\n</div>"
          },
          "metadata": {}
        }
      ]
    },
    {
      "metadata": {
        "trusted": true,
        "_uuid": "e91a5cbe40130dd7754285fdf6ecfe62185c8b75"
      },
      "cell_type": "code",
      "source": "x_df = (x_df - x_df.mean())/(x_df.max())\nx_df.head()",
      "execution_count": 6,
      "outputs": [
        {
          "output_type": "execute_result",
          "execution_count": 6,
          "data": {
            "text/plain": "      exam1     exam2\n0 -0.310741  0.119377\n1 -0.354185 -0.225823\n2 -0.298482  0.067566\n3 -0.054711  0.203162\n4  0.134115  0.092267",
            "text/html": "<div>\n<style scoped>\n    .dataframe tbody tr th:only-of-type {\n        vertical-align: middle;\n    }\n\n    .dataframe tbody tr th {\n        vertical-align: top;\n    }\n\n    .dataframe thead th {\n        text-align: right;\n    }\n</style>\n<table border=\"1\" class=\"dataframe\">\n  <thead>\n    <tr style=\"text-align: right;\">\n      <th></th>\n      <th>exam1</th>\n      <th>exam2</th>\n    </tr>\n  </thead>\n  <tbody>\n    <tr>\n      <th>0</th>\n      <td>-0.310741</td>\n      <td>0.119377</td>\n    </tr>\n    <tr>\n      <th>1</th>\n      <td>-0.354185</td>\n      <td>-0.225823</td>\n    </tr>\n    <tr>\n      <th>2</th>\n      <td>-0.298482</td>\n      <td>0.067566</td>\n    </tr>\n    <tr>\n      <th>3</th>\n      <td>-0.054711</td>\n      <td>0.203162</td>\n    </tr>\n    <tr>\n      <th>4</th>\n      <td>0.134115</td>\n      <td>0.092267</td>\n    </tr>\n  </tbody>\n</table>\n</div>"
          },
          "metadata": {}
        }
      ]
    },
    {
      "metadata": {
        "trusted": true,
        "_uuid": "45f03691a951fcd2c4982dabcf94d16fc06af0e9"
      },
      "cell_type": "code",
      "source": "x_train, x_test, y_train, y_test = tts(x_df, y_df, test_size = 0.3, random_state = 5)",
      "execution_count": 7,
      "outputs": []
    },
    {
      "metadata": {
        "trusted": true,
        "_uuid": "1cd843465ad2213d501e96477cfcfe696d4916c7"
      },
      "cell_type": "code",
      "source": "intercept = np.ones((x_train.shape[0], 1))\nx_train = np.concatenate((intercept, x_train), axis=1)\nintercept = np.ones((x_test.shape[0], 1))\nx_test = np.concatenate((intercept, x_test), axis=1)\ntheta = np.zeros((x_train.shape[1] , 1))\nlambdda = 0\nx_axis = []\ny_axis = []",
      "execution_count": 8,
      "outputs": []
    },
    {
      "metadata": {
        "trusted": true,
        "_uuid": "e329735677464fe8e26b5a7fecaf7672fb4eff4c"
      },
      "cell_type": "code",
      "source": "def gradient_descent(X, h, y):\n    return (np.dot(X.T, (h - y))) / y.shape[0]\ndef sigmoid(X, weight):\n    z = np.dot(X, weight)\n    return 1 / (1 + np.exp(-z))",
      "execution_count": 9,
      "outputs": []
    },
    {
      "metadata": {
        "trusted": true,
        "_uuid": "ab266d313084ddf17f643d5b1a53fe8d3137df48"
      },
      "cell_type": "code",
      "source": "def find_hessian(h , X  , Y):\n    Hess = np.zeros(shape = (3 , 3))\n    for i in range (X.shape[0]):\n        hess =np.matmul(x_train[i:i+1, :].T , x_train[i:i+1 , :])\n        hess = hess*(h[i])*(1-h[i])\n        Hess += hess\n    return Hess",
      "execution_count": 10,
      "outputs": []
    },
    {
      "metadata": {
        "trusted": true,
        "_uuid": "c1024e575fcd1a130e01fb8f23e06c02cbc22bfc"
      },
      "cell_type": "code",
      "source": "epochs = 10000\nfor i in range(epochs):\n    h = sigmoid(x_train, theta)\n    loss = (h - y_train)**2\n    x_axis.append(i)\n    y_axis.append(np.average(loss))\n    f1 = gradient_descent(x_train , y_train , h)\n    f2 = find_hessian(h , x_train , y_train)\n    theta += np.dot(f1.T , np.linalg.pinv(f2)).T\n    theta.shape",
      "execution_count": null,
      "outputs": []
    },
    {
      "metadata": {
        "trusted": true,
        "_uuid": "2720c3e604e390ea54a5670f7cc7fa06f5c6a083"
      },
      "cell_type": "code",
      "source": "result = sigmoid(x_test , theta)\ncorrect = 0\ny_test = y_test.values",
      "execution_count": null,
      "outputs": []
    },
    {
      "metadata": {
        "trusted": true,
        "_uuid": "1e08217641b18fa3d4179ce80ed8bc4df199d194"
      },
      "cell_type": "code",
      "source": "for i in range(x_test.shape[0]):\n    if(round(float(result[i])) == float(y_test[i])):\n        correct += 1\naccuracy = correct/y_test.shape[0]\nprint(\"accuracy:\" , accuracy * 100)",
      "execution_count": null,
      "outputs": []
    },
    {
      "metadata": {
        "trusted": true,
        "_uuid": "b8f2eda5de297041b9d3e2352edae9c9a98f80ad"
      },
      "cell_type": "code",
      "source": "#get_ipython().run_line_magic('matplotlib', 'notebook')\nplt.plot(x_axis , y_axis)\nplt.xlabel('epochs')\nplt.ylabel('loss')\nplt.show()",
      "execution_count": null,
      "outputs": []
    }
  ],
  "metadata": {
    "kernelspec": {
      "display_name": "Python 3",
      "language": "python",
      "name": "python3"
    },
    "language_info": {
      "name": "python",
      "version": "3.6.6",
      "mimetype": "text/x-python",
      "codemirror_mode": {
        "name": "ipython",
        "version": 3
      },
      "pygments_lexer": "ipython3",
      "nbconvert_exporter": "python",
      "file_extension": ".py"
    }
  },
  "nbformat": 4,
  "nbformat_minor": 1
}