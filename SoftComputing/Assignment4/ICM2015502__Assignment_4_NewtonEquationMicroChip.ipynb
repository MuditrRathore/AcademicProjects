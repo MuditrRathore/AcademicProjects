{
  "cells": [
    {
      "metadata": {
        "_uuid": "8f2839f25d086af736a60e9eeb907d3b93b6e0e5",
        "_cell_guid": "b1076dfc-b9ad-4769-8c92-a6c4dae69d19",
        "trusted": true
      },
      "cell_type": "code",
      "source": "import numpy as np\nimport pandas as pd\nimport matplotlib.pyplot as plt\nfrom sklearn.utils import shuffle\nfrom sklearn.model_selection import train_test_split as tts\nimport os \nprint(os.listdir(\"../input\"))",
      "execution_count": null,
      "outputs": []
    },
    {
      "metadata": {
        "_cell_guid": "79c7e3d0-c299-4dcb-8224-4455121ee9b0",
        "_uuid": "d629ff2d2480ee46fbb7e2d37f6b5fab8052498a",
        "trusted": true
      },
      "cell_type": "code",
      "source": "df = pd.read_csv('../input/MicroChip.csv',header = None, names = [\"test1\",\"test2\",\"result\"])\ndf = shuffle(df)\ndf[:]",
      "execution_count": null,
      "outputs": []
    },
    {
      "metadata": {
        "trusted": true,
        "_uuid": "e3b5eb23ac76826c9090fc49a23c0d0f11a2cf35"
      },
      "cell_type": "code",
      "source": "x_df = df[['test1','test2']]\ny_df = df[['result']]",
      "execution_count": null,
      "outputs": []
    },
    {
      "metadata": {
        "trusted": true,
        "_uuid": "3f3ca827e693f711b3092ef0141ebac73e9177f9"
      },
      "cell_type": "code",
      "source": "x_df = x_df**2\nx_train, x_test, y_train, y_test = tts(x_df, y_df, test_size = 0.3, random_state = 5)",
      "execution_count": null,
      "outputs": []
    },
    {
      "metadata": {
        "trusted": true,
        "_uuid": "28ca9ed399a910e154597533360e03883c995b13"
      },
      "cell_type": "code",
      "source": "intercept = np.ones((x_train.shape[0], 1))\nx_train = np.concatenate((intercept, x_train), axis=1)\nintercept = np.ones((x_test.shape[0], 1))\nx_test = np.concatenate((intercept, x_test), axis=1)\ntheta = np.zeros((x_train.shape[1] , 1))\nlambdda = 0",
      "execution_count": null,
      "outputs": []
    },
    {
      "metadata": {
        "trusted": true,
        "_uuid": "ee63253caf662315dba3c4f6c6cc8a4e0988251f"
      },
      "cell_type": "code",
      "source": "def gradient_descent(X, h, y):\n    return (np.dot(X.T, (h - y))) / y.shape[0]\ndef sigmoid(X, weight):\n    z = np.dot(X, weight)\n    return 1 / (1 + np.exp(-z))",
      "execution_count": null,
      "outputs": []
    },
    {
      "metadata": {
        "trusted": true,
        "_uuid": "762526d0d0e1e6dfcae78c7c5b15c3a2ad62c9d0"
      },
      "cell_type": "code",
      "source": "def find_hessian(h , X  , Y):\n    Hess = np.zeros(shape = (3 , 3))\n    for i in range (X.shape[0]):\n        hess =np.matmul(x_train[i:i+1, :].T , x_train[i:i+1 , :])\n        hess = hess*(h[i])*(1-h[i])\n        Hess += hess\n    return Hess",
      "execution_count": null,
      "outputs": []
    },
    {
      "metadata": {
        "trusted": true,
        "_uuid": "484b077dd0337ce9c714d9c287ef33f7378cb527"
      },
      "cell_type": "code",
      "source": "xAxis = []\nyAxis = []\nepochs = 10000\nfor i in range(epochs):\n    h = sigmoid(x_train, theta)\n    loss = (h - y_train)**2\n    xAxis.append(i)\n    yAxis.append(np.average(loss))\n    f1 = gradient_descent(x_train , y_train , h)\n    f2 = find_hessian(h , x_train , y_train)\n    theta += np.dot(f1.T , np.linalg.pinv(f2)).T\n    theta.shape",
      "execution_count": null,
      "outputs": []
    },
    {
      "metadata": {
        "trusted": true,
        "_uuid": "d4c1ed93b1f6d3ba166571bdb3c1d636f21ba684"
      },
      "cell_type": "code",
      "source": "result = sigmoid(x_test , theta)\ncorrect = 0\ny_test = y_test.values",
      "execution_count": null,
      "outputs": []
    },
    {
      "metadata": {
        "trusted": true,
        "_uuid": "469defe765bdf3b1b05095a8e347e426c3e27515"
      },
      "cell_type": "code",
      "source": "for i in range(x_test.shape[0]):\n    if(round(float(result[i])) == float(y_test[i])):\n        correct += 1",
      "execution_count": null,
      "outputs": []
    },
    {
      "metadata": {
        "trusted": true,
        "_uuid": "b4f9865f1a18cdd1b8377959e66b3ffdd04259dd"
      },
      "cell_type": "code",
      "source": "accuracy = correct/y_test.shape[0]\nprint(\"accuracy:\" , accuracy * 100)",
      "execution_count": null,
      "outputs": []
    },
    {
      "metadata": {
        "trusted": true,
        "_uuid": "939934bfecb936fe34dbf51c639c33de3c9a3861"
      },
      "cell_type": "code",
      "source": "#get_ipython().run_line_magic('matplotlib', 'notebook')\nplt.plot(xAxis , yAxis)\nplt.xlabel('epochs')\nplt.ylabel('loss')\nplt.show()",
      "execution_count": null,
      "outputs": []
    },
    {
      "metadata": {
        "trusted": true,
        "_uuid": "5e9858d5bc8ae739f5ef810c91478616267970e8"
      },
      "cell_type": "code",
      "source": "",
      "execution_count": null,
      "outputs": []
    }
  ],
  "metadata": {
    "kernelspec": {
      "display_name": "Python 3",
      "language": "python",
      "name": "python3"
    },
    "language_info": {
      "name": "python",
      "version": "3.6.6",
      "mimetype": "text/x-python",
      "codemirror_mode": {
        "name": "ipython",
        "version": 3
      },
      "pygments_lexer": "ipython3",
      "nbconvert_exporter": "python",
      "file_extension": ".py"
    }
  },
  "nbformat": 4,
  "nbformat_minor": 1
}