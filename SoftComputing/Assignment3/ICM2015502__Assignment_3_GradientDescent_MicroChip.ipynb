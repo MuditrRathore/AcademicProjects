{
  "cells": [
    {
      "metadata": {
        "_uuid": "8f2839f25d086af736a60e9eeb907d3b93b6e0e5",
        "_cell_guid": "b1076dfc-b9ad-4769-8c92-a6c4dae69d19",
        "trusted": true
      },
      "cell_type": "code",
      "source": "import numpy as np\nimport pandas as pd\nimport matplotlib.pyplot as plt\nfrom sklearn.model_selection import train_test_split as tts\nimport os\nprint(os.listdir(\"../input\"))",
      "execution_count": 1,
      "outputs": [
        {
          "output_type": "stream",
          "text": "['MicroChip.csv']\n",
          "name": "stdout"
        }
      ]
    },
    {
      "metadata": {
        "_cell_guid": "79c7e3d0-c299-4dcb-8224-4455121ee9b0",
        "_uuid": "d629ff2d2480ee46fbb7e2d37f6b5fab8052498a",
        "trusted": true
      },
      "cell_type": "code",
      "source": "df = pd.read_csv('../input/MicroChip.csv',header = None, names = [\"test1\",\"test2\",\"result\"])",
      "execution_count": 2,
      "outputs": []
    },
    {
      "metadata": {
        "trusted": true,
        "_uuid": "de0238d77fd760d88b4e34645e81b0da82dcbcce"
      },
      "cell_type": "code",
      "source": "x_df = df[[\"test1\",\"test2\"]]\ny_df = df['result']\nX_train, X_test, Y_train, Y_test = tts(x_df, y_df, test_size = 0.3, random_state = 5)",
      "execution_count": 3,
      "outputs": []
    },
    {
      "metadata": {
        "trusted": true,
        "_uuid": "d35de2c60c4c65cd14a25d28bdeed7dbd36a3682"
      },
      "cell_type": "code",
      "source": "X_train = (X_train - X_train.min())/(X_train.max()-X_train.min())\nX_test = (X_test - X_test.min())/(X_test.max()-X_test.min())\nX_train.insert(0, \"b\", 1)\nX_test.insert(0, \"b\", 1)",
      "execution_count": 4,
      "outputs": []
    },
    {
      "metadata": {
        "trusted": true,
        "_uuid": "f16aec9f57411eb03eb5504053e3e47a6299e83b"
      },
      "cell_type": "code",
      "source": "X_train = np.array(X_train)\nweights = np.zeros(len(X_train[0]))\nY_train = Y_train.values.reshape(Y_train.size, 1)",
      "execution_count": 5,
      "outputs": []
    },
    {
      "metadata": {
        "trusted": true,
        "_uuid": "cbba1794b01a56255d55e6b713b9b50974e6ad07"
      },
      "cell_type": "code",
      "source": "def sigmoid(z):\n    return 1 / (1 + np.exp(-z))\n\ndef loss(h, y):\n    return (-y * np.log(0.00000001+h) - (1 - y) * np.log(0.00000001+1 - h)).mean()",
      "execution_count": 6,
      "outputs": []
    },
    {
      "metadata": {
        "trusted": true,
        "_uuid": "56b518385124b2ff7fecb9f1e57c1d950ae4bf63"
      },
      "cell_type": "code",
      "source": "iterations = 1200\nalpha = 0.005\ncost = []",
      "execution_count": 7,
      "outputs": []
    },
    {
      "metadata": {
        "trusted": true,
        "_uuid": "2f0f80bf4908f7da6506684ddad73f238a4bb64e"
      },
      "cell_type": "code",
      "source": "m = len(weights)\nfor i in range(iterations):\n    z = X_train.dot(weights)\n    hypothesis = sigmoid(z) \n    hypothesis = np.reshape(hypothesis, (hypothesis.size, 1) )\n    hypothesis = hypothesis-Y_train\n    X_trans = X_train.transpose()\n    hypothesis = X_trans.dot(hypothesis)\n    weights = np.reshape(weights, (weights.size, 1))\n    weights = weights - (alpha/m) * hypothesis\n    cost.append(loss(sigmoid(X_train.dot(weights)), Y_train))",
      "execution_count": 8,
      "outputs": []
    },
    {
      "metadata": {
        "trusted": true,
        "_uuid": "8effa614938d75beff9e958a2c273175dfb69196"
      },
      "cell_type": "code",
      "source": "prediction = sigmoid(X_test.dot(weights))\nprediction.loc[prediction[0] < 0.5 , 0] = 0\nprediction.loc[prediction[0] >= 0.5 , 0] = 1",
      "execution_count": 9,
      "outputs": []
    },
    {
      "metadata": {
        "trusted": true,
        "_uuid": "8c1f7350a333692898f50a2c9f2093982e18531c"
      },
      "cell_type": "code",
      "source": "plt.plot(np.arange(1, iterations+1), cost)\nplt.xlabel(\"Number of Iteartions\")\nplt.ylabel(\"Cost\")\nplt.title(\"Gradient Descent Algorithm\")\nplt.show()",
      "execution_count": 10,
      "outputs": [
        {
          "output_type": "display_data",
          "data": {
            "text/plain": "<Figure size 432x288 with 1 Axes>",
            "image/png": "[encoded data removed]"
          },
          "metadata": {}
        }
      ]
    },
    {
      "metadata": {
        "trusted": true,
        "_uuid": "cadbe56e7e4bb0c6b76def1eb36afbd33c10f8aa"
      },
      "cell_type": "code",
      "source": "simple_error = Y_test - prediction\nc = 0\n\nfor i in range(Y_test.shape[0]):\n   # print(i)\n   # print(pred.iloc[i][0])\n   # print(float(Y_test.iloc[i]))\n    if(prediction.iloc[i][0]==Y_test.iloc[i]):\n        c += 1\n    \naccuracy = 100*c/len(Y_test)\nprint(\"accuracy : \" + str(accuracy))",
      "execution_count": 11,
      "outputs": [
        {
          "output_type": "stream",
          "text": "accuracy : 44.44444444444444\n",
          "name": "stdout"
        }
      ]
    },
    {
      "metadata": {
        "trusted": true,
        "_uuid": "61ce74b5842989d1aa2140f5d6afaa1c7360e46b"
      },
      "cell_type": "code",
      "source": "prediction = sigmoid(X_train.dot(weights))\nsimple_error = Y_train-prediction\nprint(simple_error)",
      "execution_count": 12,
      "outputs": [
        {
          "output_type": "stream",
          "text": "[[ 0.45473931]\n [ 0.52337967]\n [ 0.57298426]\n [ 0.44113543]\n [ 0.4675641 ]\n [ 0.54971573]\n [ 0.57402408]\n [ 0.53852136]\n [ 0.458925  ]\n [-0.4580146 ]\n [ 0.48137318]\n [-0.56816197]\n [-0.40280571]\n [-0.57861662]\n [-0.38675596]\n [ 0.58773378]\n [-0.57197675]\n [-0.43560898]\n [-0.49174617]\n [-0.39101074]\n [ 0.44004212]\n [ 0.57684765]\n [ 0.44974507]\n [ 0.4218629 ]\n [-0.46134605]\n [ 0.50181326]\n [-0.5934939 ]\n [ 0.44126667]\n [ 0.46261395]\n [ 0.590422  ]\n [-0.60225778]\n [-0.55292294]\n [-0.52295589]\n [-0.5956599 ]\n [ 0.42308095]\n [ 0.52905473]\n [-0.4306136 ]\n [ 0.43468854]\n [ 0.42829579]\n [-0.52836705]\n [ 0.47402385]\n [ 0.51434712]\n [ 0.43571373]\n [ 0.4509217 ]\n [-0.56141026]\n [ 0.4577239 ]\n [-0.57923853]\n [-0.57081246]\n [-0.47906643]\n [ 0.4430291 ]\n [-0.50280239]\n [ 0.55794674]\n [ 0.56474315]\n [ 0.43660197]\n [-0.56412908]\n [-0.51442716]\n [-0.49412342]\n [ 0.47771434]\n [-0.46253498]\n [-0.40394988]\n [-0.41565548]\n [ 0.53653951]\n [-0.50775682]\n [-0.46631504]\n [ 0.46498612]\n [ 0.47877446]\n [-0.42249811]\n [ 0.50791483]\n [-0.42835493]\n [ 0.40771003]\n [ 0.60064663]\n [-0.51541583]\n [-0.44770762]\n [-0.5038116 ]\n [ 0.54766362]\n [-0.39000591]\n [ 0.47269241]\n [-0.44078207]\n [-0.52509514]\n [-0.52906183]\n [-0.40308057]\n [-0.49611474]]\n",
          "name": "stdout"
        }
      ]
    },
    {
      "metadata": {
        "trusted": true,
        "_uuid": "7b864b19292df63a26dcc38cd230993d7bf1a955"
      },
      "cell_type": "code",
      "source": "squared_error = simple_error**2\nprint(squared_error)",
      "execution_count": 13,
      "outputs": [
        {
          "output_type": "stream",
          "text": "[[0.20678784]\n [0.27392628]\n [0.32831097]\n [0.19460046]\n [0.21861619]\n [0.30218738]\n [0.32950364]\n [0.29000525]\n [0.21061216]\n [0.20977737]\n [0.23172014]\n [0.32280802]\n [0.16225244]\n [0.33479719]\n [0.14958017]\n [0.345431  ]\n [0.3271574 ]\n [0.18975518]\n [0.2418143 ]\n [0.1528894 ]\n [0.19363707]\n [0.33275321]\n [0.20227063]\n [0.1779683 ]\n [0.21284018]\n [0.25181655]\n [0.35223501]\n [0.19471627]\n [0.21401167]\n [0.34859814]\n [0.36271443]\n [0.30572378]\n [0.27348286]\n [0.35481072]\n [0.17899749]\n [0.2798989 ]\n [0.18542807]\n [0.18895413]\n [0.18343728]\n [0.27917174]\n [0.22469861]\n [0.26455296]\n [0.18984646]\n [0.20333038]\n [0.31518148]\n [0.20951117]\n [0.33551728]\n [0.32582686]\n [0.22950465]\n [0.19627479]\n [0.25281024]\n [0.31130457]\n [0.31893483]\n [0.19062128]\n [0.31824162]\n [0.2646353 ]\n [0.24415795]\n [0.22821099]\n [0.21393861]\n [0.1631755 ]\n [0.17276948]\n [0.28787465]\n [0.25781699]\n [0.21744971]\n [0.21621209]\n [0.22922499]\n [0.17850465]\n [0.25797748]\n [0.18348795]\n [0.16622747]\n [0.36077638]\n [0.26565348]\n [0.20044211]\n [0.25382613]\n [0.29993544]\n [0.15210461]\n [0.22343812]\n [0.19428884]\n [0.2757249 ]\n [0.27990642]\n [0.16247395]\n [0.24612983]]\n",
          "name": "stdout"
        }
      ]
    },
    {
      "metadata": {
        "trusted": true,
        "_uuid": "38297efc1b4420b156016cea5b8bfce2d46b14f3"
      },
      "cell_type": "code",
      "source": "squared_error_value = sum(squared_error)/len(squared_error)",
      "execution_count": 14,
      "outputs": []
    },
    {
      "metadata": {
        "trusted": true,
        "_uuid": "8f47039ab7bae35b2e429c477bd58f16693c1d33"
      },
      "cell_type": "code",
      "source": "print(\"squared_error_value = \" + str(squared_error_value))",
      "execution_count": 15,
      "outputs": [
        {
          "output_type": "stream",
          "text": "squared_error_value = [0.24607952]\n",
          "name": "stdout"
        }
      ]
    },
    {
      "metadata": {
        "trusted": true,
        "_uuid": "f679e257d10e2dcdacbe0016bac5d3d00e6138cf"
      },
      "cell_type": "code",
      "source": "",
      "execution_count": null,
      "outputs": []
    }
  ],
  "metadata": {
    "kernelspec": {
      "display_name": "Python 3",
      "language": "python",
      "name": "python3"
    },
    "language_info": {
      "name": "python",
      "version": "3.6.6",
      "mimetype": "text/x-python",
      "codemirror_mode": {
        "name": "ipython",
        "version": 3
      },
      "pygments_lexer": "ipython3",
      "nbconvert_exporter": "python",
      "file_extension": ".py"
    }
  },
  "nbformat": 4,
  "nbformat_minor": 1
}