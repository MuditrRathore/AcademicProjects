{
  "cells": [
    {
      "metadata": {
        "_uuid": "8f2839f25d086af736a60e9eeb907d3b93b6e0e5",
        "_cell_guid": "b1076dfc-b9ad-4769-8c92-a6c4dae69d19",
        "trusted": true
      },
      "cell_type": "code",
      "source": "import numpy as np\nimport pandas as pd\nimport matplotlib.pyplot as plt\nfrom sklearn.model_selection import train_test_split as tts\nimport os\nprint(os.listdir(\"../input\"))",
      "execution_count": null,
      "outputs": []
    },
    {
      "metadata": {
        "_cell_guid": "79c7e3d0-c299-4dcb-8224-4455121ee9b0",
        "_uuid": "d629ff2d2480ee46fbb7e2d37f6b5fab8052498a",
        "trusted": true
      },
      "cell_type": "code",
      "source": "df = pd.read_csv('../input/TwoExams.csv',header = None, names = [\"exam1\",\"exam2\",\"result\"])",
      "execution_count": null,
      "outputs": []
    },
    {
      "metadata": {
        "trusted": true,
        "_uuid": "2bed6ec6e8b26ae2c194625ac133a56ce019ed88"
      },
      "cell_type": "code",
      "source": "df['exam1']",
      "execution_count": null,
      "outputs": []
    },
    {
      "metadata": {
        "trusted": true,
        "_uuid": "3d221943aae1963eadbf8e262274da9148e43244"
      },
      "cell_type": "code",
      "source": "x_df = df[[\"exam1\",\"exam2\"]]\ny_df = df['result']\nX_train, X_test, Y_train, Y_test = tts(x_df, y_df, test_size = 0.3, random_state = 5)",
      "execution_count": null,
      "outputs": []
    },
    {
      "metadata": {
        "trusted": true,
        "_uuid": "cc56901b04584cda1d7cdcdeee2a4af5609f141c"
      },
      "cell_type": "code",
      "source": "X_train = (X_train - X_train.min())/(X_train.max()-X_train.min())\nX_test = (X_test - X_test.min())/(X_test.max()-X_test.min())\nX_train.insert(0, \"b\", 1)\nX_test.insert(0, \"b\", 1)",
      "execution_count": null,
      "outputs": []
    },
    {
      "metadata": {
        "trusted": true,
        "_uuid": "ff10e58291f2c1b29b9dd5dcafac11fb505e1a9d"
      },
      "cell_type": "code",
      "source": "X_train = np.array(X_train)\nweights = np.zeros(len(X_train[0]))\nY_train = Y_train.values.reshape(Y_train.size, 1)",
      "execution_count": null,
      "outputs": []
    },
    {
      "metadata": {
        "trusted": true,
        "_uuid": "47eaa4985f9bb69c0a5669bfefc8ce3bc39ac083"
      },
      "cell_type": "code",
      "source": "def sigmoid(z):\n    return 1 / (1 + np.exp(-z))\n\ndef loss(h, y):\n    return (-y * np.log(0.00000001+h) - (1 - y) * np.log(0.00000001+1 - h)).mean()",
      "execution_count": null,
      "outputs": []
    },
    {
      "metadata": {
        "trusted": true,
        "_uuid": "71167cad3292a2caeea06a3d9b759e37317d9303"
      },
      "cell_type": "code",
      "source": "iterations = 1200\nalpha = 0.005\ncost = []",
      "execution_count": null,
      "outputs": []
    },
    {
      "metadata": {
        "trusted": true,
        "_uuid": "37ef1bb091ca65b6aaf59343a7e163035e54dcfe"
      },
      "cell_type": "code",
      "source": "m = len(weights)\nfor i in range(iterations):\n    z = X_train.dot(weights)\n    hypothesis = sigmoid(z) \n    hypothesis = np.reshape(hypothesis, (hypothesis.size, 1) )\n    hypothesis = hypothesis-Y_train\n    X_trans = X_train.transpose()\n    hypothesis = X_trans.dot(hypothesis)\n    weights = np.reshape(weights, (weights.size, 1))\n    weights = weights - (alpha/m) * hypothesis\n    cost.append(loss(sigmoid(X_train.dot(weights)), Y_train))",
      "execution_count": null,
      "outputs": []
    },
    {
      "metadata": {
        "trusted": true,
        "_uuid": "4eab8406222ef91c1771632e26d44fc328214afc"
      },
      "cell_type": "code",
      "source": "prediction = sigmoid(X_test.dot(weights))\nprediction.loc[prediction[0] < 0.5 , 0] = 0\nprediction.loc[prediction[0] >= 0.5 , 0] = 1",
      "execution_count": null,
      "outputs": []
    },
    {
      "metadata": {
        "trusted": true,
        "_uuid": "f1ba0180308f01777454f4bd7b72ea34df371bda"
      },
      "cell_type": "code",
      "source": "\nplt.plot(np.arange(1, iterations+1), cost)\nplt.xlabel(\"Number of Iteartions\")\nplt.ylabel(\"Cost\")\nplt.title(\"Gradient Descent Algorithm\")\nplt.show()",
      "execution_count": null,
      "outputs": []
    },
    {
      "metadata": {
        "trusted": true,
        "_uuid": "450f025bfa881a388eec677be9278c6238143a8e"
      },
      "cell_type": "code",
      "source": "simple_error = Y_test - prediction\nc = 0\n\nfor i in range(Y_test.shape[0]):\n   # print(i)\n   # print(pred.iloc[i][0])\n   # print(float(Y_test.iloc[i]))\n    if(prediction.iloc[i][0]==Y_test.iloc[i]):\n        c += 1\n    \naccuracy = 100*c/len(Y_test)\nprint(\"accuracy : \" + str(accuracy))",
      "execution_count": null,
      "outputs": []
    },
    {
      "metadata": {
        "trusted": true,
        "_uuid": "cd47d09901281e0bc5045e9e3f6f0ae43893b508"
      },
      "cell_type": "code",
      "source": "prediction = sigmoid(X_train.dot(weights))\nsimple_error = Y_train-prediction\nprint(simple_error)",
      "execution_count": null,
      "outputs": []
    },
    {
      "metadata": {
        "trusted": true,
        "_uuid": "288af1bb26d3ea986f4c2f3c0dceca812cd5071c"
      },
      "cell_type": "code",
      "source": "squared_error = simple_error**2\nprint(squared_error)",
      "execution_count": null,
      "outputs": []
    },
    {
      "metadata": {
        "trusted": true,
        "_uuid": "061fabbcfcd16e22c78bd29e29a7d9f1fa460a27"
      },
      "cell_type": "code",
      "source": "squared_error_value = sum(squared_error)/len(squared_error)",
      "execution_count": null,
      "outputs": []
    },
    {
      "metadata": {
        "trusted": true,
        "_uuid": "61f0df2f515c5d6631e46f1d8e4f58ae8508af52"
      },
      "cell_type": "code",
      "source": "print(\"squared_error_value = \" + str(squared_error_value))",
      "execution_count": null,
      "outputs": []
    }
  ],
  "metadata": {
    "kernelspec": {
      "display_name": "Python 3",
      "language": "python",
      "name": "python3"
    },
    "language_info": {
      "name": "python",
      "version": "3.6.6",
      "mimetype": "text/x-python",
      "codemirror_mode": {
        "name": "ipython",
        "version": 3
      },
      "pygments_lexer": "ipython3",
      "nbconvert_exporter": "python",
      "file_extension": ".py"
    }
  },
  "nbformat": 4,
  "nbformat_minor": 1
}